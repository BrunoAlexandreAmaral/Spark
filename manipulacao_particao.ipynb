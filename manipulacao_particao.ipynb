{
  "nbformat": 4,
  "nbformat_minor": 0,
  "metadata": {
    "colab": {
      "provenance": [],
      "authorship_tag": "ABX9TyOQNPZIGKFRXU2buF4uDeH4",
      "include_colab_link": true
    },
    "kernelspec": {
      "name": "python3",
      "display_name": "Python 3"
    },
    "language_info": {
      "name": "python"
    }
  },
  "cells": [
    {
      "cell_type": "markdown",
      "metadata": {
        "id": "view-in-github",
        "colab_type": "text"
      },
      "source": [
        "<a href=\"https://colab.research.google.com/github/BrunoAlexandreAmaral/Spark/blob/main/manipulacao_particao.ipynb\" target=\"_parent\"><img src=\"https://colab.research.google.com/assets/colab-badge.svg\" alt=\"Open In Colab\"/></a>"
      ]
    },
    {
      "cell_type": "code",
      "execution_count": 1,
      "metadata": {
        "colab": {
          "base_uri": "https://localhost:8080/"
        },
        "id": "pTJ1vmYnvoP9",
        "outputId": "3ccf7761-f63d-4459-d122-ec62c3f2d7f8"
      },
      "outputs": [
        {
          "output_type": "stream",
          "name": "stdout",
          "text": [
            "Requirement already satisfied: pyspark in /usr/local/lib/python3.11/dist-packages (3.5.4)\n",
            "Requirement already satisfied: py4j==0.10.9.7 in /usr/local/lib/python3.11/dist-packages (from pyspark) (0.10.9.7)\n"
          ]
        }
      ],
      "source": [
        "!pip install pyspark"
      ]
    },
    {
      "cell_type": "code",
      "source": [
        "import pandas as pd\n",
        "import numpy as np\n",
        "from pyspark.sql import SparkSession\n",
        "from pyspark.sql.types import IntegerType, DoubleType, StructField, StructType,StringType, TimestampType\n",
        "from pyspark.sql.functions import unix_timestamp"
      ],
      "metadata": {
        "id": "euXzhqGavxEl"
      },
      "execution_count": 156,
      "outputs": []
    },
    {
      "cell_type": "code",
      "source": [
        "from google.colab import files\n",
        "uploaded = files.upload()"
      ],
      "metadata": {
        "colab": {
          "base_uri": "https://localhost:8080/",
          "height": 73
        },
        "id": "gVw__ObTv1sM",
        "outputId": "0f71733c-e4a1-4eeb-dee8-ae5ce8e11d06"
      },
      "execution_count": 8,
      "outputs": [
        {
          "output_type": "display_data",
          "data": {
            "text/plain": [
              "<IPython.core.display.HTML object>"
            ],
            "text/html": [
              "\n",
              "     <input type=\"file\" id=\"files-8e919ddc-915a-43bb-83cd-01f6ec692034\" name=\"files[]\" multiple disabled\n",
              "        style=\"border:none\" />\n",
              "     <output id=\"result-8e919ddc-915a-43bb-83cd-01f6ec692034\">\n",
              "      Upload widget is only available when the cell has been executed in the\n",
              "      current browser session. Please rerun this cell to enable.\n",
              "      </output>\n",
              "      <script>// Copyright 2017 Google LLC\n",
              "//\n",
              "// Licensed under the Apache License, Version 2.0 (the \"License\");\n",
              "// you may not use this file except in compliance with the License.\n",
              "// You may obtain a copy of the License at\n",
              "//\n",
              "//      http://www.apache.org/licenses/LICENSE-2.0\n",
              "//\n",
              "// Unless required by applicable law or agreed to in writing, software\n",
              "// distributed under the License is distributed on an \"AS IS\" BASIS,\n",
              "// WITHOUT WARRANTIES OR CONDITIONS OF ANY KIND, either express or implied.\n",
              "// See the License for the specific language governing permissions and\n",
              "// limitations under the License.\n",
              "\n",
              "/**\n",
              " * @fileoverview Helpers for google.colab Python module.\n",
              " */\n",
              "(function(scope) {\n",
              "function span(text, styleAttributes = {}) {\n",
              "  const element = document.createElement('span');\n",
              "  element.textContent = text;\n",
              "  for (const key of Object.keys(styleAttributes)) {\n",
              "    element.style[key] = styleAttributes[key];\n",
              "  }\n",
              "  return element;\n",
              "}\n",
              "\n",
              "// Max number of bytes which will be uploaded at a time.\n",
              "const MAX_PAYLOAD_SIZE = 100 * 1024;\n",
              "\n",
              "function _uploadFiles(inputId, outputId) {\n",
              "  const steps = uploadFilesStep(inputId, outputId);\n",
              "  const outputElement = document.getElementById(outputId);\n",
              "  // Cache steps on the outputElement to make it available for the next call\n",
              "  // to uploadFilesContinue from Python.\n",
              "  outputElement.steps = steps;\n",
              "\n",
              "  return _uploadFilesContinue(outputId);\n",
              "}\n",
              "\n",
              "// This is roughly an async generator (not supported in the browser yet),\n",
              "// where there are multiple asynchronous steps and the Python side is going\n",
              "// to poll for completion of each step.\n",
              "// This uses a Promise to block the python side on completion of each step,\n",
              "// then passes the result of the previous step as the input to the next step.\n",
              "function _uploadFilesContinue(outputId) {\n",
              "  const outputElement = document.getElementById(outputId);\n",
              "  const steps = outputElement.steps;\n",
              "\n",
              "  const next = steps.next(outputElement.lastPromiseValue);\n",
              "  return Promise.resolve(next.value.promise).then((value) => {\n",
              "    // Cache the last promise value to make it available to the next\n",
              "    // step of the generator.\n",
              "    outputElement.lastPromiseValue = value;\n",
              "    return next.value.response;\n",
              "  });\n",
              "}\n",
              "\n",
              "/**\n",
              " * Generator function which is called between each async step of the upload\n",
              " * process.\n",
              " * @param {string} inputId Element ID of the input file picker element.\n",
              " * @param {string} outputId Element ID of the output display.\n",
              " * @return {!Iterable<!Object>} Iterable of next steps.\n",
              " */\n",
              "function* uploadFilesStep(inputId, outputId) {\n",
              "  const inputElement = document.getElementById(inputId);\n",
              "  inputElement.disabled = false;\n",
              "\n",
              "  const outputElement = document.getElementById(outputId);\n",
              "  outputElement.innerHTML = '';\n",
              "\n",
              "  const pickedPromise = new Promise((resolve) => {\n",
              "    inputElement.addEventListener('change', (e) => {\n",
              "      resolve(e.target.files);\n",
              "    });\n",
              "  });\n",
              "\n",
              "  const cancel = document.createElement('button');\n",
              "  inputElement.parentElement.appendChild(cancel);\n",
              "  cancel.textContent = 'Cancel upload';\n",
              "  const cancelPromise = new Promise((resolve) => {\n",
              "    cancel.onclick = () => {\n",
              "      resolve(null);\n",
              "    };\n",
              "  });\n",
              "\n",
              "  // Wait for the user to pick the files.\n",
              "  const files = yield {\n",
              "    promise: Promise.race([pickedPromise, cancelPromise]),\n",
              "    response: {\n",
              "      action: 'starting',\n",
              "    }\n",
              "  };\n",
              "\n",
              "  cancel.remove();\n",
              "\n",
              "  // Disable the input element since further picks are not allowed.\n",
              "  inputElement.disabled = true;\n",
              "\n",
              "  if (!files) {\n",
              "    return {\n",
              "      response: {\n",
              "        action: 'complete',\n",
              "      }\n",
              "    };\n",
              "  }\n",
              "\n",
              "  for (const file of files) {\n",
              "    const li = document.createElement('li');\n",
              "    li.append(span(file.name, {fontWeight: 'bold'}));\n",
              "    li.append(span(\n",
              "        `(${file.type || 'n/a'}) - ${file.size} bytes, ` +\n",
              "        `last modified: ${\n",
              "            file.lastModifiedDate ? file.lastModifiedDate.toLocaleDateString() :\n",
              "                                    'n/a'} - `));\n",
              "    const percent = span('0% done');\n",
              "    li.appendChild(percent);\n",
              "\n",
              "    outputElement.appendChild(li);\n",
              "\n",
              "    const fileDataPromise = new Promise((resolve) => {\n",
              "      const reader = new FileReader();\n",
              "      reader.onload = (e) => {\n",
              "        resolve(e.target.result);\n",
              "      };\n",
              "      reader.readAsArrayBuffer(file);\n",
              "    });\n",
              "    // Wait for the data to be ready.\n",
              "    let fileData = yield {\n",
              "      promise: fileDataPromise,\n",
              "      response: {\n",
              "        action: 'continue',\n",
              "      }\n",
              "    };\n",
              "\n",
              "    // Use a chunked sending to avoid message size limits. See b/62115660.\n",
              "    let position = 0;\n",
              "    do {\n",
              "      const length = Math.min(fileData.byteLength - position, MAX_PAYLOAD_SIZE);\n",
              "      const chunk = new Uint8Array(fileData, position, length);\n",
              "      position += length;\n",
              "\n",
              "      const base64 = btoa(String.fromCharCode.apply(null, chunk));\n",
              "      yield {\n",
              "        response: {\n",
              "          action: 'append',\n",
              "          file: file.name,\n",
              "          data: base64,\n",
              "        },\n",
              "      };\n",
              "\n",
              "      let percentDone = fileData.byteLength === 0 ?\n",
              "          100 :\n",
              "          Math.round((position / fileData.byteLength) * 100);\n",
              "      percent.textContent = `${percentDone}% done`;\n",
              "\n",
              "    } while (position < fileData.byteLength);\n",
              "  }\n",
              "\n",
              "  // All done.\n",
              "  yield {\n",
              "    response: {\n",
              "      action: 'complete',\n",
              "    }\n",
              "  };\n",
              "}\n",
              "\n",
              "scope.google = scope.google || {};\n",
              "scope.google.colab = scope.google.colab || {};\n",
              "scope.google.colab._files = {\n",
              "  _uploadFiles,\n",
              "  _uploadFilesContinue,\n",
              "};\n",
              "})(self);\n",
              "</script> "
            ]
          },
          "metadata": {}
        },
        {
          "output_type": "stream",
          "name": "stdout",
          "text": [
            "Saving rdd_dataset.txt to rdd_dataset.txt\n"
          ]
        }
      ]
    },
    {
      "cell_type": "code",
      "source": [
        "spark = SparkSession.builder.appName(\"Execucao\").getOrCreate()"
      ],
      "metadata": {
        "id": "G5fHCZg2xX5k"
      },
      "execution_count": 10,
      "outputs": []
    },
    {
      "cell_type": "code",
      "source": [
        "df_txt = spark.read.text(\"/content/rdd_dataset.txt\")"
      ],
      "metadata": {
        "id": "W1HEWad0xsA1"
      },
      "execution_count": 15,
      "outputs": []
    },
    {
      "cell_type": "code",
      "source": [
        "df_txt.show()"
      ],
      "metadata": {
        "colab": {
          "base_uri": "https://localhost:8080/"
        },
        "id": "8uW01Eeiynes",
        "outputId": "48a130c6-1954-4135-9624-296006e31cf5"
      },
      "execution_count": 17,
      "outputs": [
        {
          "output_type": "stream",
          "name": "stdout",
          "text": [
            "+------------+\n",
            "|       value|\n",
            "+------------+\n",
            "|     Cenoura|\n",
            "|    Otimista|\n",
            "|   Solitário|\n",
            "| Imperfeição|\n",
            "|  Descoberta|\n",
            "|    Fantasia|\n",
            "|         DNC|\n",
            "| Maravilhoso|\n",
            "|Criatividade|\n",
            "| Compreensão|\n",
            "|    Atraente|\n",
            "|       Festa|\n",
            "|    Intenção|\n",
            "|    Encontro|\n",
            "|     Destino|\n",
            "|     Sucesso|\n",
            "|  Conquistar|\n",
            "|Simplicidade|\n",
            "|         Paz|\n",
            "|  Existência|\n",
            "+------------+\n",
            "only showing top 20 rows\n",
            "\n"
          ]
        }
      ]
    },
    {
      "cell_type": "code",
      "source": [
        "df_txt_filtrtado = df_txt.filter(df_txt.value == \"DNC\").count()"
      ],
      "metadata": {
        "id": "iDadW5gFyvn8"
      },
      "execution_count": 28,
      "outputs": []
    },
    {
      "cell_type": "code",
      "source": [
        "df_txt_filtrtado"
      ],
      "metadata": {
        "colab": {
          "base_uri": "https://localhost:8080/"
        },
        "id": "7EqHHrrQzFM0",
        "outputId": "a9998a09-7fe3-4e5e-c1e1-325154abc6ba"
      },
      "execution_count": 29,
      "outputs": [
        {
          "output_type": "execute_result",
          "data": {
            "text/plain": [
              "3"
            ]
          },
          "metadata": {},
          "execution_count": 29
        }
      ]
    },
    {
      "cell_type": "code",
      "source": [
        "df = spark.read.csv(\"/content/base_de_dados.csv\", header=True, sep=\";\", schema =schema_types, timestampFormat=\"dd/MM/yyyy HH:mm\")"
      ],
      "metadata": {
        "id": "imsng4X6zTzE"
      },
      "execution_count": 96,
      "outputs": []
    },
    {
      "cell_type": "code",
      "source": [
        "df.show()"
      ],
      "metadata": {
        "colab": {
          "base_uri": "https://localhost:8080/"
        },
        "id": "ThBq_vjvzb9U",
        "outputId": "9bcd29a7-a364-4b00-ac52-9af27c267c4e"
      },
      "execution_count": 97,
      "outputs": [
        {
          "output_type": "stream",
          "name": "stdout",
          "text": [
            "+---+--------+--------------------+--------------------+--------------------+--------------------+---------------------+---------------------+--------------+---------------+-------------------+\n",
            "| id|   valor| parte_debitada_nome|parte_debitada_banco|parte_debitada_conta|parte_creditada_nome|parte_creditada_conta|parte_creditada_banco|chave_pix_tipo|chave_pix_valor|     data_transacao|\n",
            "+---+--------+--------------------+--------------------+--------------------+--------------------+---------------------+---------------------+--------------+---------------+-------------------+\n",
            "|  1|    9.93|Dra. Ana Carolina...|            79470453|                NULL|       Maysa da Cruz|          6.7162333E7|                 Itau|           cpf|   8.43975261E9|2022-02-18 13:28:00|\n",
            "|  2|   15.38|        Ana Caldeira|            19689668|                NULL|        Evelyn Sales|          6.0005091E7|             Bradesco|           cpf|2.7145380617E10|2022-04-08 01:47:00|\n",
            "|  3|   57.58|    Arthur Goncalves|            18856899|                NULL|          Maria Melo|          1.3496303E7|                  BTG|           cpf|1.6452937006E10|2022-07-14 03:18:00|\n",
            "|  4|53705.13|  Ana Julia Caldeira|            22834741|                NULL|   Ana Livia Almeida|          4.4695116E7|               Nubank|           cpf|2.6590384142E10|2022-01-15 18:06:00|\n",
            "|  5|25299.69|  Srta. Nicole Pinto|             3715882|                NULL|Srta. Ana Laura d...|          2.1409465E7|               Nubank|           cpf| 7.348610528E10|2022-05-13 11:04:00|\n",
            "|  6| 7165.06|   Gabriela Ferreira|             2243037|                NULL|       Larissa Souza|          1.0689552E7|                 Itau|           cpf|9.6845371237E10|2022-09-11 13:38:00|\n",
            "|  7|    6.16|    Heloisa da Rocha|            59778949|                NULL|Dra. Vitoria Silv...|          5.6583792E7|               Nubank|           cpf|8.9064175357E10|2021-12-10 12:37:00|\n",
            "|  8|  136.36|Srta. Isadora Cor...|            77102442|                NULL|  Francisco da Costa|          9.6088386E7|               Nubank|           cpf|8.5907632429E10|2021-12-30 23:18:00|\n",
            "|  9|  574.39|   Dr. Lucas da Cruz|            38501170|                NULL|       Calebe da Luz|          1.9365554E7|             Bradesco|           cpf| 6.472018952E10|2021-06-21 07:20:00|\n",
            "| 10|   42.88|     Mirella Martins|            29535709|                NULL|        Danilo Lopes|           6.006465E7|                 Itau|           cpf|8.7014935232E10|2022-09-21 17:19:00|\n",
            "| 11|33629.97|Sr. Vitor Gabriel...|            67010663|                NULL|Sra. Lavinia Cald...|          4.8145941E7|               Nubank|           cpf|6.3542098124E10|2022-09-12 00:29:00|\n",
            "| 12| 4374.56|      Nathan Peixoto|            22975623|                NULL|        Diogo da Luz|          3.0302218E7|             Bradesco|           cpf|7.2908154323E10|2022-08-07 17:01:00|\n",
            "| 13|  507.18|       Miguel Araujo|            75113657|                NULL|Marcos Vinicius G...|          6.7418115E7|                 Itau|           cpf|8.4763129031E10|2021-03-07 12:34:00|\n",
            "| 14|67758.87|     Juliana Correia|             4495167|                NULL|    Davi Lucas Porto|          9.4395923E7|                  BTG|           cpf|9.7804215649E10|2021-03-24 22:58:00|\n",
            "| 15|  815.53|     Ana Laura Souza|            79650252|                NULL|        Isabel Costa|          2.8762988E7|                  BTG|           cpf|5.1824039689E10|2022-02-21 11:25:00|\n",
            "| 16|    2.73|           Levi Lima|            73815441|                NULL|Dra. Maria Luiza ...|          9.6594203E7|             Bradesco|           cpf|9.4516738066E10|2021-07-20 09:17:00|\n",
            "| 17|    0.54|        Otavio Cunha|            85583961|                NULL|       Elisa Moreira|          9.7003354E7|             Bradesco|           cpf|1.5248769094E10|2022-02-16 10:16:00|\n",
            "| 18|49836.72|Ana Carolina Oliv...|            80200942|                NULL|    Stella Fernandes|          3.1579145E7|                  BTG|           cpf| 4.760938125E10|2022-07-18 22:46:00|\n",
            "| 19|    9.68|        Levi Martins|            12349481|                NULL|Joao Guilherme Me...|          3.1102492E7|                  BTG|       celular|1.1916824404E10|2022-02-26 15:05:00|\n",
            "| 20| 9837.22|          Noah Cunha|            84622162|                NULL|         Juan Mendes|          9.7805965E7|             Bradesco|       celular|1.1944547225E10|2021-06-22 05:39:00|\n",
            "+---+--------+--------------------+--------------------+--------------------+--------------------+---------------------+---------------------+--------------+---------------+-------------------+\n",
            "only showing top 20 rows\n",
            "\n"
          ]
        }
      ]
    },
    {
      "cell_type": "code",
      "source": [
        "df.printSchema()"
      ],
      "metadata": {
        "colab": {
          "base_uri": "https://localhost:8080/"
        },
        "id": "WSnoQw3K0YzE",
        "outputId": "edcac054-ac72-48f7-a9d3-093ce7d365a3"
      },
      "execution_count": 76,
      "outputs": [
        {
          "output_type": "stream",
          "name": "stdout",
          "text": [
            "root\n",
            " |-- id: integer (nullable = true)\n",
            " |-- valor: double (nullable = true)\n",
            " |-- parte_debitada_nome: string (nullable = true)\n",
            " |-- parte_debitada_banco: string (nullable = true)\n",
            " |-- parte_debitada_conta: double (nullable = true)\n",
            " |-- parte_creditada_nome: string (nullable = true)\n",
            " |-- parte_creditada_conta: double (nullable = true)\n",
            " |-- parte_creditada_banco: string (nullable = true)\n",
            " |-- chave_pix_tipo: string (nullable = true)\n",
            " |-- chave_pix_valor: double (nullable = true)\n",
            " |-- data_transacao: timestamp (nullable = true)\n",
            "\n"
          ]
        }
      ]
    },
    {
      "cell_type": "code",
      "source": [
        "schema_types =StructType([\n",
        "    StructField(\"id\",IntegerType()),\n",
        "    StructField(\"valor\",DoubleType()),\n",
        "    StructField(\"parte_debitada_nome\",StringType()),\n",
        "    StructField(\"parte_debitada_banco\",StringType()),\n",
        "    StructField(\"parte_debitada_conta\",DoubleType()),\n",
        "    StructField(\"parte_creditada_nome\",StringType()),\n",
        "    StructField(\"parte_creditada_conta\",DoubleType()),\n",
        "    StructField(\"parte_creditada_banco\",StringType()),\n",
        "    StructField(\"chave_pix_tipo\",StringType()),\n",
        "    StructField(\"chave_pix_valor\",DoubleType()),\n",
        "    StructField(\"data_transacao\", TimestampType())\n",
        "])"
      ],
      "metadata": {
        "id": "stMCMbfS0Zmc"
      },
      "execution_count": 77,
      "outputs": []
    },
    {
      "cell_type": "code",
      "source": [
        "df.printSchema()"
      ],
      "metadata": {
        "colab": {
          "base_uri": "https://localhost:8080/"
        },
        "id": "ePoc3sJK3jk0",
        "outputId": "8fdc6846-50ca-4d72-bacc-14b5ee48d396"
      },
      "execution_count": 78,
      "outputs": [
        {
          "output_type": "stream",
          "name": "stdout",
          "text": [
            "root\n",
            " |-- id: integer (nullable = true)\n",
            " |-- valor: double (nullable = true)\n",
            " |-- parte_debitada_nome: string (nullable = true)\n",
            " |-- parte_debitada_banco: string (nullable = true)\n",
            " |-- parte_debitada_conta: double (nullable = true)\n",
            " |-- parte_creditada_nome: string (nullable = true)\n",
            " |-- parte_creditada_conta: double (nullable = true)\n",
            " |-- parte_creditada_banco: string (nullable = true)\n",
            " |-- chave_pix_tipo: string (nullable = true)\n",
            " |-- chave_pix_valor: double (nullable = true)\n",
            " |-- data_transacao: timestamp (nullable = true)\n",
            "\n"
          ]
        }
      ]
    },
    {
      "cell_type": "code",
      "source": [
        "df.show()"
      ],
      "metadata": {
        "colab": {
          "base_uri": "https://localhost:8080/"
        },
        "id": "uk92vlXE3ty1",
        "outputId": "7ddde4a3-d2f1-4a97-9bae-86f8d174d3df"
      },
      "execution_count": 99,
      "outputs": [
        {
          "output_type": "stream",
          "name": "stdout",
          "text": [
            "+---+--------+--------------------+--------------------+--------------------+--------------------+---------------------+---------------------+--------------+---------------+-------------------+\n",
            "| id|   valor| parte_debitada_nome|parte_debitada_banco|parte_debitada_conta|parte_creditada_nome|parte_creditada_conta|parte_creditada_banco|chave_pix_tipo|chave_pix_valor|     data_transacao|\n",
            "+---+--------+--------------------+--------------------+--------------------+--------------------+---------------------+---------------------+--------------+---------------+-------------------+\n",
            "|  1|    9.93|Dra. Ana Carolina...|            79470453|                NULL|       Maysa da Cruz|          6.7162333E7|                 Itau|           cpf|   8.43975261E9|2022-02-18 13:28:00|\n",
            "|  2|   15.38|        Ana Caldeira|            19689668|                NULL|        Evelyn Sales|          6.0005091E7|             Bradesco|           cpf|2.7145380617E10|2022-04-08 01:47:00|\n",
            "|  3|   57.58|    Arthur Goncalves|            18856899|                NULL|          Maria Melo|          1.3496303E7|                  BTG|           cpf|1.6452937006E10|2022-07-14 03:18:00|\n",
            "|  4|53705.13|  Ana Julia Caldeira|            22834741|                NULL|   Ana Livia Almeida|          4.4695116E7|               Nubank|           cpf|2.6590384142E10|2022-01-15 18:06:00|\n",
            "|  5|25299.69|  Srta. Nicole Pinto|             3715882|                NULL|Srta. Ana Laura d...|          2.1409465E7|               Nubank|           cpf| 7.348610528E10|2022-05-13 11:04:00|\n",
            "|  6| 7165.06|   Gabriela Ferreira|             2243037|                NULL|       Larissa Souza|          1.0689552E7|                 Itau|           cpf|9.6845371237E10|2022-09-11 13:38:00|\n",
            "|  7|    6.16|    Heloisa da Rocha|            59778949|                NULL|Dra. Vitoria Silv...|          5.6583792E7|               Nubank|           cpf|8.9064175357E10|2021-12-10 12:37:00|\n",
            "|  8|  136.36|Srta. Isadora Cor...|            77102442|                NULL|  Francisco da Costa|          9.6088386E7|               Nubank|           cpf|8.5907632429E10|2021-12-30 23:18:00|\n",
            "|  9|  574.39|   Dr. Lucas da Cruz|            38501170|                NULL|       Calebe da Luz|          1.9365554E7|             Bradesco|           cpf| 6.472018952E10|2021-06-21 07:20:00|\n",
            "| 10|   42.88|     Mirella Martins|            29535709|                NULL|        Danilo Lopes|           6.006465E7|                 Itau|           cpf|8.7014935232E10|2022-09-21 17:19:00|\n",
            "| 11|33629.97|Sr. Vitor Gabriel...|            67010663|                NULL|Sra. Lavinia Cald...|          4.8145941E7|               Nubank|           cpf|6.3542098124E10|2022-09-12 00:29:00|\n",
            "| 12| 4374.56|      Nathan Peixoto|            22975623|                NULL|        Diogo da Luz|          3.0302218E7|             Bradesco|           cpf|7.2908154323E10|2022-08-07 17:01:00|\n",
            "| 13|  507.18|       Miguel Araujo|            75113657|                NULL|Marcos Vinicius G...|          6.7418115E7|                 Itau|           cpf|8.4763129031E10|2021-03-07 12:34:00|\n",
            "| 14|67758.87|     Juliana Correia|             4495167|                NULL|    Davi Lucas Porto|          9.4395923E7|                  BTG|           cpf|9.7804215649E10|2021-03-24 22:58:00|\n",
            "| 15|  815.53|     Ana Laura Souza|            79650252|                NULL|        Isabel Costa|          2.8762988E7|                  BTG|           cpf|5.1824039689E10|2022-02-21 11:25:00|\n",
            "| 16|    2.73|           Levi Lima|            73815441|                NULL|Dra. Maria Luiza ...|          9.6594203E7|             Bradesco|           cpf|9.4516738066E10|2021-07-20 09:17:00|\n",
            "| 17|    0.54|        Otavio Cunha|            85583961|                NULL|       Elisa Moreira|          9.7003354E7|             Bradesco|           cpf|1.5248769094E10|2022-02-16 10:16:00|\n",
            "| 18|49836.72|Ana Carolina Oliv...|            80200942|                NULL|    Stella Fernandes|          3.1579145E7|                  BTG|           cpf| 4.760938125E10|2022-07-18 22:46:00|\n",
            "| 19|    9.68|        Levi Martins|            12349481|                NULL|Joao Guilherme Me...|          3.1102492E7|                  BTG|       celular|1.1916824404E10|2022-02-26 15:05:00|\n",
            "| 20| 9837.22|          Noah Cunha|            84622162|                NULL|         Juan Mendes|          9.7805965E7|             Bradesco|       celular|1.1944547225E10|2021-06-22 05:39:00|\n",
            "+---+--------+--------------------+--------------------+--------------------+--------------------+---------------------+---------------------+--------------+---------------+-------------------+\n",
            "only showing top 20 rows\n",
            "\n"
          ]
        }
      ]
    },
    {
      "cell_type": "code",
      "source": [
        "df_semshema = spark.read.csv(\"/content/base_de_dados.csv\", header=True, sep=\";\", timestampFormat=\"dd/MM/yyyy HH:mm\")"
      ],
      "metadata": {
        "id": "9DtfHeWBHc0n"
      },
      "execution_count": 148,
      "outputs": []
    },
    {
      "cell_type": "code",
      "source": [
        "df_semshema.printSchema()"
      ],
      "metadata": {
        "colab": {
          "base_uri": "https://localhost:8080/"
        },
        "id": "1svCxBE1etYy",
        "outputId": "f52ea6cf-ed50-4c48-96f9-f490476ce9c7"
      },
      "execution_count": 149,
      "outputs": [
        {
          "output_type": "stream",
          "name": "stdout",
          "text": [
            "root\n",
            " |-- id: string (nullable = true)\n",
            " |-- valor: string (nullable = true)\n",
            " |-- parte_debitada_nome: string (nullable = true)\n",
            " |-- parte_debitada_conta: string (nullable = true)\n",
            " |-- parte_debitada_banco: string (nullable = true)\n",
            " |-- parte_creditada_nome: string (nullable = true)\n",
            " |-- parte_creditada_conta: string (nullable = true)\n",
            " |-- parte_creditada_banco: string (nullable = true)\n",
            " |-- chave_pix_tipo: string (nullable = true)\n",
            " |-- chave_pix_valor: string (nullable = true)\n",
            " |-- data_transacao: string (nullable = true)\n",
            "\n"
          ]
        }
      ]
    },
    {
      "cell_type": "code",
      "source": [
        "from pyspark.sql.functions import col, to_timestamp, round"
      ],
      "metadata": {
        "id": "IpACzkptgKmK"
      },
      "execution_count": 220,
      "outputs": []
    },
    {
      "cell_type": "code",
      "source": [
        "df_cast = df_semshema.withColumn(\"id\", col(\"id\").cast(\"int\")\n",
        ").withColumn(\"valor\", col(\"valor\").cast(\"double\")\n",
        ").withColumn(\"parte_debitada_banco\", col(\"parte_debitada_banco\").cast(\"string\")\n",
        ").withColumn(\"chave_pix_valor\", col(\"chave_pix_valor\").cast(\"string\")\n",
        ").withColumn(\"data_transacao\", to_timestamp(\"data_transacao\", format=\"dd/MM/yyyy HH:mm\"))"
      ],
      "metadata": {
        "id": "zcriIGgpe6OJ"
      },
      "execution_count": 280,
      "outputs": []
    },
    {
      "cell_type": "code",
      "source": [
        "df_cast.printSchema()"
      ],
      "metadata": {
        "colab": {
          "base_uri": "https://localhost:8080/"
        },
        "id": "AJL_x-U7gV36",
        "outputId": "02be928d-5f65-48cf-8cec-f024efb9d1bb"
      },
      "execution_count": 245,
      "outputs": [
        {
          "output_type": "stream",
          "name": "stdout",
          "text": [
            "root\n",
            " |-- id: integer (nullable = true)\n",
            " |-- valor: double (nullable = true)\n",
            " |-- parte_debitada_nome: string (nullable = true)\n",
            " |-- parte_debitada_conta: string (nullable = true)\n",
            " |-- parte_debitada_banco: string (nullable = true)\n",
            " |-- parte_creditada_nome: string (nullable = true)\n",
            " |-- parte_creditada_conta: string (nullable = true)\n",
            " |-- parte_creditada_banco: string (nullable = true)\n",
            " |-- chave_pix_tipo: string (nullable = true)\n",
            " |-- chave_pix_valor: string (nullable = true)\n",
            " |-- data_transacao: timestamp (nullable = true)\n",
            "\n"
          ]
        }
      ]
    },
    {
      "cell_type": "code",
      "source": [
        "df_cast.show()"
      ],
      "metadata": {
        "colab": {
          "base_uri": "https://localhost:8080/"
        },
        "id": "L8B4JvDlihIz",
        "outputId": "78bf1d0a-1309-4b4a-b129-2e48626b0894"
      },
      "execution_count": 246,
      "outputs": [
        {
          "output_type": "stream",
          "name": "stdout",
          "text": [
            "+---+--------+--------------------+--------------------+--------------------+--------------------+---------------------+---------------------+--------------+---------------+-------------------+\n",
            "| id|   valor| parte_debitada_nome|parte_debitada_conta|parte_debitada_banco|parte_creditada_nome|parte_creditada_conta|parte_creditada_banco|chave_pix_tipo|chave_pix_valor|     data_transacao|\n",
            "+---+--------+--------------------+--------------------+--------------------+--------------------+---------------------+---------------------+--------------+---------------+-------------------+\n",
            "|  1|    9.93|Dra. Ana Carolina...|            79470453|              Nubank|       Maysa da Cruz|             67162333|                 Itau|           cpf|     8439752610|2022-02-18 13:28:00|\n",
            "|  2|   15.38|        Ana Caldeira|            19689668|                Itau|        Evelyn Sales|             60005091|             Bradesco|           cpf|    27145380617|2022-04-08 01:47:00|\n",
            "|  3|   57.58|    Arthur Goncalves|            18856899|            Bradesco|          Maria Melo|             13496303|                  BTG|           cpf|    16452937006|2022-07-14 03:18:00|\n",
            "|  4|53705.13|  Ana Julia Caldeira|            22834741|                Itau|   Ana Livia Almeida|             44695116|               Nubank|           cpf|    26590384142|2022-01-15 18:06:00|\n",
            "|  5|25299.69|  Srta. Nicole Pinto|             3715882|              Nubank|Srta. Ana Laura d...|             21409465|               Nubank|           cpf|    73486105280|2022-05-13 11:04:00|\n",
            "|  6| 7165.06|   Gabriela Ferreira|             2243037|              Nubank|       Larissa Souza|             10689552|                 Itau|           cpf|    96845371237|2022-09-11 13:38:00|\n",
            "|  7|    6.16|    Heloisa da Rocha|            59778949|                 BTG|Dra. Vitoria Silv...|             56583792|               Nubank|           cpf|    89064175357|2021-12-10 12:37:00|\n",
            "|  8|  136.36|Srta. Isadora Cor...|            77102442|              Nubank|  Francisco da Costa|             96088386|               Nubank|           cpf|    85907632429|2021-12-30 23:18:00|\n",
            "|  9|  574.39|   Dr. Lucas da Cruz|            38501170|                 BTG|       Calebe da Luz|             19365554|             Bradesco|           cpf|    64720189520|2021-06-21 07:20:00|\n",
            "| 10|   42.88|     Mirella Martins|            29535709|            Bradesco|        Danilo Lopes|             60064650|                 Itau|           cpf|    87014935232|2022-09-21 17:19:00|\n",
            "| 11|33629.97|Sr. Vitor Gabriel...|            67010663|                 BTG|Sra. Lavinia Cald...|             48145941|               Nubank|           cpf|    63542098124|2022-09-12 00:29:00|\n",
            "| 12| 4374.56|      Nathan Peixoto|            22975623|              Nubank|        Diogo da Luz|             30302218|             Bradesco|           cpf|    72908154323|2022-08-07 17:01:00|\n",
            "| 13|  507.18|       Miguel Araujo|            75113657|              Nubank|Marcos Vinicius G...|             67418115|                 Itau|           cpf|    84763129031|2021-03-07 12:34:00|\n",
            "| 14|67758.87|     Juliana Correia|             4495167|                Itau|    Davi Lucas Porto|             94395923|                  BTG|           cpf|    97804215649|2021-03-24 22:58:00|\n",
            "| 15|  815.53|     Ana Laura Souza|            79650252|                Itau|        Isabel Costa|             28762988|                  BTG|           cpf|    51824039689|2022-02-21 11:25:00|\n",
            "| 16|    2.73|           Levi Lima|            73815441|                 BTG|Dra. Maria Luiza ...|             96594203|             Bradesco|           cpf|    94516738066|2021-07-20 09:17:00|\n",
            "| 17|    0.54|        Otavio Cunha|            85583961|            Bradesco|       Elisa Moreira|             97003354|             Bradesco|           cpf|    15248769094|2022-02-16 10:16:00|\n",
            "| 18|49836.72|Ana Carolina Oliv...|            80200942|                Itau|    Stella Fernandes|             31579145|                  BTG|           cpf|    47609381250|2022-07-18 22:46:00|\n",
            "| 19|    9.68|        Levi Martins|            12349481|                Itau|Joao Guilherme Me...|             31102492|                  BTG|       celular|    11916824404|2022-02-26 15:05:00|\n",
            "| 20| 9837.22|          Noah Cunha|            84622162|            Bradesco|         Juan Mendes|             97805965|             Bradesco|       celular|    11944547225|2021-06-22 05:39:00|\n",
            "+---+--------+--------------------+--------------------+--------------------+--------------------+---------------------+---------------------+--------------+---------------+-------------------+\n",
            "only showing top 20 rows\n",
            "\n"
          ]
        }
      ]
    },
    {
      "cell_type": "code",
      "source": [
        "df_cast.select(\"id\").show()"
      ],
      "metadata": {
        "colab": {
          "base_uri": "https://localhost:8080/"
        },
        "id": "PRdTRy3osgV2",
        "outputId": "09c83ce9-c63e-48cb-eff3-ab8d5aa55bb0"
      },
      "execution_count": 162,
      "outputs": [
        {
          "output_type": "stream",
          "name": "stdout",
          "text": [
            "+---+\n",
            "| id|\n",
            "+---+\n",
            "|  1|\n",
            "|  2|\n",
            "|  3|\n",
            "|  4|\n",
            "|  5|\n",
            "|  6|\n",
            "|  7|\n",
            "|  8|\n",
            "|  9|\n",
            "| 10|\n",
            "| 11|\n",
            "| 12|\n",
            "| 13|\n",
            "| 14|\n",
            "| 15|\n",
            "| 16|\n",
            "| 17|\n",
            "| 18|\n",
            "| 19|\n",
            "| 20|\n",
            "+---+\n",
            "only showing top 20 rows\n",
            "\n"
          ]
        }
      ]
    },
    {
      "cell_type": "code",
      "source": [
        "dolar = df_cast.select(\"id\",\"valor\").withColumn(\"dolar\", round(col(\"valor\")*5,2))"
      ],
      "metadata": {
        "id": "2Wo1u4vEtB1M"
      },
      "execution_count": 178,
      "outputs": []
    },
    {
      "cell_type": "code",
      "source": [
        "dolar = dolar.drop(\"id\")"
      ],
      "metadata": {
        "id": "X895kZmhv3ds"
      },
      "execution_count": 183,
      "outputs": []
    },
    {
      "cell_type": "code",
      "source": [
        "dolar.show()"
      ],
      "metadata": {
        "colab": {
          "base_uri": "https://localhost:8080/"
        },
        "id": "1Wom76gDv6V8",
        "outputId": "12afa33b-464d-4cdd-e91f-c8ac444b3337"
      },
      "execution_count": 184,
      "outputs": [
        {
          "output_type": "stream",
          "name": "stdout",
          "text": [
            "+--------+---------+\n",
            "|   valor|    dolar|\n",
            "+--------+---------+\n",
            "|    9.93|    49.65|\n",
            "|   15.38|     76.9|\n",
            "|   57.58|    287.9|\n",
            "|53705.13|268525.65|\n",
            "|25299.69|126498.45|\n",
            "| 7165.06|  35825.3|\n",
            "|    6.16|     30.8|\n",
            "|  136.36|    681.8|\n",
            "|  574.39|  2871.95|\n",
            "|   42.88|    214.4|\n",
            "|33629.97|168149.85|\n",
            "| 4374.56|  21872.8|\n",
            "|  507.18|   2535.9|\n",
            "|67758.87|338794.35|\n",
            "|  815.53|  4077.65|\n",
            "|    2.73|    13.65|\n",
            "|    0.54|      2.7|\n",
            "|49836.72| 249183.6|\n",
            "|    9.68|     48.4|\n",
            "| 9837.22|  49186.1|\n",
            "+--------+---------+\n",
            "only showing top 20 rows\n",
            "\n"
          ]
        }
      ]
    },
    {
      "cell_type": "code",
      "source": [
        "del_selc = df.select(\"id\",\"valor\")"
      ],
      "metadata": {
        "id": "0LlBeURdwghP"
      },
      "execution_count": 185,
      "outputs": []
    },
    {
      "cell_type": "code",
      "source": [
        "del_selc = del_selc.withColumnRenamed(\"id\",\"identificador\")"
      ],
      "metadata": {
        "id": "7goEbIK4wlv8"
      },
      "execution_count": 193,
      "outputs": []
    },
    {
      "cell_type": "code",
      "source": [
        "del_selc.show()"
      ],
      "metadata": {
        "colab": {
          "base_uri": "https://localhost:8080/"
        },
        "id": "cKiyqMUlwvI9",
        "outputId": "fa6779eb-a813-41a3-9828-a7591cbf780c"
      },
      "execution_count": 194,
      "outputs": [
        {
          "output_type": "stream",
          "name": "stdout",
          "text": [
            "+-------------+--------+\n",
            "|identificador|   valor|\n",
            "+-------------+--------+\n",
            "|            1|    9.93|\n",
            "|            2|   15.38|\n",
            "|            3|   57.58|\n",
            "|            4|53705.13|\n",
            "|            5|25299.69|\n",
            "|            6| 7165.06|\n",
            "|            7|    6.16|\n",
            "|            8|  136.36|\n",
            "|            9|  574.39|\n",
            "|           10|   42.88|\n",
            "|           11|33629.97|\n",
            "|           12| 4374.56|\n",
            "|           13|  507.18|\n",
            "|           14|67758.87|\n",
            "|           15|  815.53|\n",
            "|           16|    2.73|\n",
            "|           17|    0.54|\n",
            "|           18|49836.72|\n",
            "|           19|    9.68|\n",
            "|           20| 9837.22|\n",
            "+-------------+--------+\n",
            "only showing top 20 rows\n",
            "\n"
          ]
        }
      ]
    },
    {
      "cell_type": "code",
      "source": [
        "trans_cpf = df.select(\"id\",\"valor\",\"chave_pix_tipo\").filter((col(\"chave_pix_tipo\") == \"cpf\") & (col(\"valor\") >= \"1000\"))"
      ],
      "metadata": {
        "id": "aQoA6sUJx1BC"
      },
      "execution_count": 216,
      "outputs": []
    },
    {
      "cell_type": "code",
      "source": [
        "trans_cpf.show()"
      ],
      "metadata": {
        "colab": {
          "base_uri": "https://localhost:8080/"
        },
        "id": "EjHVFUT8yy4s",
        "outputId": "20736535-48ae-4edd-be4a-07ea79a79676"
      },
      "execution_count": 217,
      "outputs": [
        {
          "output_type": "stream",
          "name": "stdout",
          "text": [
            "+---+--------+--------------+\n",
            "| id|   valor|chave_pix_tipo|\n",
            "+---+--------+--------------+\n",
            "|  4|53705.13|           cpf|\n",
            "|  5|25299.69|           cpf|\n",
            "|  6| 7165.06|           cpf|\n",
            "| 11|33629.97|           cpf|\n",
            "| 12| 4374.56|           cpf|\n",
            "| 14|67758.87|           cpf|\n",
            "| 18|49836.72|           cpf|\n",
            "| 46| 5839.39|           cpf|\n",
            "| 47|38219.08|           cpf|\n",
            "| 48| 1379.61|           cpf|\n",
            "| 50| 8745.63|           cpf|\n",
            "| 52|60139.23|           cpf|\n",
            "| 53| 6037.91|           cpf|\n",
            "| 54|95977.62|           cpf|\n",
            "| 55|35409.61|           cpf|\n",
            "| 62|57433.69|           cpf|\n",
            "| 66|21639.12|           cpf|\n",
            "| 71|80083.34|           cpf|\n",
            "+---+--------+--------------+\n",
            "\n"
          ]
        }
      ]
    },
    {
      "cell_type": "code",
      "source": [
        "nulos_df = df.na"
      ],
      "metadata": {
        "id": "YspgdGm92dJY"
      },
      "execution_count": 228,
      "outputs": []
    },
    {
      "cell_type": "code",
      "source": [
        "df.show()"
      ],
      "metadata": {
        "colab": {
          "base_uri": "https://localhost:8080/"
        },
        "id": "sTlqcWKO5_gv",
        "outputId": "63f98598-b75b-4805-e327-51c31d2f92b5"
      },
      "execution_count": 233,
      "outputs": [
        {
          "output_type": "stream",
          "name": "stdout",
          "text": [
            "+---+--------+--------------------+--------------------+--------------------+--------------------+---------------------+---------------------+--------------+---------------+-------------------+\n",
            "| id|   valor| parte_debitada_nome|parte_debitada_banco|parte_debitada_conta|parte_creditada_nome|parte_creditada_conta|parte_creditada_banco|chave_pix_tipo|chave_pix_valor|     data_transacao|\n",
            "+---+--------+--------------------+--------------------+--------------------+--------------------+---------------------+---------------------+--------------+---------------+-------------------+\n",
            "|  1|    9.93|Dra. Ana Carolina...|            79470453|                NULL|       Maysa da Cruz|          6.7162333E7|                 Itau|           cpf|   8.43975261E9|2022-02-18 13:28:00|\n",
            "|  2|   15.38|        Ana Caldeira|            19689668|                NULL|        Evelyn Sales|          6.0005091E7|             Bradesco|           cpf|2.7145380617E10|2022-04-08 01:47:00|\n",
            "|  3|   57.58|    Arthur Goncalves|            18856899|                NULL|          Maria Melo|          1.3496303E7|                  BTG|           cpf|1.6452937006E10|2022-07-14 03:18:00|\n",
            "|  4|53705.13|  Ana Julia Caldeira|            22834741|                NULL|   Ana Livia Almeida|          4.4695116E7|               Nubank|           cpf|2.6590384142E10|2022-01-15 18:06:00|\n",
            "|  5|25299.69|  Srta. Nicole Pinto|             3715882|                NULL|Srta. Ana Laura d...|          2.1409465E7|               Nubank|           cpf| 7.348610528E10|2022-05-13 11:04:00|\n",
            "|  6| 7165.06|   Gabriela Ferreira|             2243037|                NULL|       Larissa Souza|          1.0689552E7|                 Itau|           cpf|9.6845371237E10|2022-09-11 13:38:00|\n",
            "|  7|    6.16|    Heloisa da Rocha|            59778949|                NULL|Dra. Vitoria Silv...|          5.6583792E7|               Nubank|           cpf|8.9064175357E10|2021-12-10 12:37:00|\n",
            "|  8|  136.36|Srta. Isadora Cor...|            77102442|                NULL|  Francisco da Costa|          9.6088386E7|               Nubank|           cpf|8.5907632429E10|2021-12-30 23:18:00|\n",
            "|  9|  574.39|   Dr. Lucas da Cruz|            38501170|                NULL|       Calebe da Luz|          1.9365554E7|             Bradesco|           cpf| 6.472018952E10|2021-06-21 07:20:00|\n",
            "| 10|   42.88|     Mirella Martins|            29535709|                NULL|        Danilo Lopes|           6.006465E7|                 Itau|           cpf|8.7014935232E10|2022-09-21 17:19:00|\n",
            "| 11|33629.97|Sr. Vitor Gabriel...|            67010663|                NULL|Sra. Lavinia Cald...|          4.8145941E7|               Nubank|           cpf|6.3542098124E10|2022-09-12 00:29:00|\n",
            "| 12| 4374.56|      Nathan Peixoto|            22975623|                NULL|        Diogo da Luz|          3.0302218E7|             Bradesco|           cpf|7.2908154323E10|2022-08-07 17:01:00|\n",
            "| 13|  507.18|       Miguel Araujo|            75113657|                NULL|Marcos Vinicius G...|          6.7418115E7|                 Itau|           cpf|8.4763129031E10|2021-03-07 12:34:00|\n",
            "| 14|67758.87|     Juliana Correia|             4495167|                NULL|    Davi Lucas Porto|          9.4395923E7|                  BTG|           cpf|9.7804215649E10|2021-03-24 22:58:00|\n",
            "| 15|  815.53|     Ana Laura Souza|            79650252|                NULL|        Isabel Costa|          2.8762988E7|                  BTG|           cpf|5.1824039689E10|2022-02-21 11:25:00|\n",
            "| 16|    2.73|           Levi Lima|            73815441|                NULL|Dra. Maria Luiza ...|          9.6594203E7|             Bradesco|           cpf|9.4516738066E10|2021-07-20 09:17:00|\n",
            "| 17|    0.54|        Otavio Cunha|            85583961|                NULL|       Elisa Moreira|          9.7003354E7|             Bradesco|           cpf|1.5248769094E10|2022-02-16 10:16:00|\n",
            "| 18|49836.72|Ana Carolina Oliv...|            80200942|                NULL|    Stella Fernandes|          3.1579145E7|                  BTG|           cpf| 4.760938125E10|2022-07-18 22:46:00|\n",
            "| 19|    9.68|        Levi Martins|            12349481|                NULL|Joao Guilherme Me...|          3.1102492E7|                  BTG|       celular|1.1916824404E10|2022-02-26 15:05:00|\n",
            "| 20| 9837.22|          Noah Cunha|            84622162|                NULL|         Juan Mendes|          9.7805965E7|             Bradesco|       celular|1.1944547225E10|2021-06-22 05:39:00|\n",
            "+---+--------+--------------------+--------------------+--------------------+--------------------+---------------------+---------------------+--------------+---------------+-------------------+\n",
            "only showing top 20 rows\n",
            "\n"
          ]
        }
      ]
    },
    {
      "cell_type": "code",
      "source": [
        "df.na.drop(\"all\").show()"
      ],
      "metadata": {
        "colab": {
          "base_uri": "https://localhost:8080/"
        },
        "id": "00mzXiyP2WP3",
        "outputId": "14729df0-5074-49f4-c1ec-c21472fe610b"
      },
      "execution_count": 235,
      "outputs": [
        {
          "output_type": "stream",
          "name": "stdout",
          "text": [
            "+---+--------+--------------------+--------------------+--------------------+--------------------+---------------------+---------------------+--------------+---------------+-------------------+\n",
            "| id|   valor| parte_debitada_nome|parte_debitada_banco|parte_debitada_conta|parte_creditada_nome|parte_creditada_conta|parte_creditada_banco|chave_pix_tipo|chave_pix_valor|     data_transacao|\n",
            "+---+--------+--------------------+--------------------+--------------------+--------------------+---------------------+---------------------+--------------+---------------+-------------------+\n",
            "|  1|    9.93|Dra. Ana Carolina...|            79470453|                NULL|       Maysa da Cruz|          6.7162333E7|                 Itau|           cpf|   8.43975261E9|2022-02-18 13:28:00|\n",
            "|  2|   15.38|        Ana Caldeira|            19689668|                NULL|        Evelyn Sales|          6.0005091E7|             Bradesco|           cpf|2.7145380617E10|2022-04-08 01:47:00|\n",
            "|  3|   57.58|    Arthur Goncalves|            18856899|                NULL|          Maria Melo|          1.3496303E7|                  BTG|           cpf|1.6452937006E10|2022-07-14 03:18:00|\n",
            "|  4|53705.13|  Ana Julia Caldeira|            22834741|                NULL|   Ana Livia Almeida|          4.4695116E7|               Nubank|           cpf|2.6590384142E10|2022-01-15 18:06:00|\n",
            "|  5|25299.69|  Srta. Nicole Pinto|             3715882|                NULL|Srta. Ana Laura d...|          2.1409465E7|               Nubank|           cpf| 7.348610528E10|2022-05-13 11:04:00|\n",
            "|  6| 7165.06|   Gabriela Ferreira|             2243037|                NULL|       Larissa Souza|          1.0689552E7|                 Itau|           cpf|9.6845371237E10|2022-09-11 13:38:00|\n",
            "|  7|    6.16|    Heloisa da Rocha|            59778949|                NULL|Dra. Vitoria Silv...|          5.6583792E7|               Nubank|           cpf|8.9064175357E10|2021-12-10 12:37:00|\n",
            "|  8|  136.36|Srta. Isadora Cor...|            77102442|                NULL|  Francisco da Costa|          9.6088386E7|               Nubank|           cpf|8.5907632429E10|2021-12-30 23:18:00|\n",
            "|  9|  574.39|   Dr. Lucas da Cruz|            38501170|                NULL|       Calebe da Luz|          1.9365554E7|             Bradesco|           cpf| 6.472018952E10|2021-06-21 07:20:00|\n",
            "| 10|   42.88|     Mirella Martins|            29535709|                NULL|        Danilo Lopes|           6.006465E7|                 Itau|           cpf|8.7014935232E10|2022-09-21 17:19:00|\n",
            "| 11|33629.97|Sr. Vitor Gabriel...|            67010663|                NULL|Sra. Lavinia Cald...|          4.8145941E7|               Nubank|           cpf|6.3542098124E10|2022-09-12 00:29:00|\n",
            "| 12| 4374.56|      Nathan Peixoto|            22975623|                NULL|        Diogo da Luz|          3.0302218E7|             Bradesco|           cpf|7.2908154323E10|2022-08-07 17:01:00|\n",
            "| 13|  507.18|       Miguel Araujo|            75113657|                NULL|Marcos Vinicius G...|          6.7418115E7|                 Itau|           cpf|8.4763129031E10|2021-03-07 12:34:00|\n",
            "| 14|67758.87|     Juliana Correia|             4495167|                NULL|    Davi Lucas Porto|          9.4395923E7|                  BTG|           cpf|9.7804215649E10|2021-03-24 22:58:00|\n",
            "| 15|  815.53|     Ana Laura Souza|            79650252|                NULL|        Isabel Costa|          2.8762988E7|                  BTG|           cpf|5.1824039689E10|2022-02-21 11:25:00|\n",
            "| 16|    2.73|           Levi Lima|            73815441|                NULL|Dra. Maria Luiza ...|          9.6594203E7|             Bradesco|           cpf|9.4516738066E10|2021-07-20 09:17:00|\n",
            "| 17|    0.54|        Otavio Cunha|            85583961|                NULL|       Elisa Moreira|          9.7003354E7|             Bradesco|           cpf|1.5248769094E10|2022-02-16 10:16:00|\n",
            "| 18|49836.72|Ana Carolina Oliv...|            80200942|                NULL|    Stella Fernandes|          3.1579145E7|                  BTG|           cpf| 4.760938125E10|2022-07-18 22:46:00|\n",
            "| 19|    9.68|        Levi Martins|            12349481|                NULL|Joao Guilherme Me...|          3.1102492E7|                  BTG|       celular|1.1916824404E10|2022-02-26 15:05:00|\n",
            "| 20| 9837.22|          Noah Cunha|            84622162|                NULL|         Juan Mendes|          9.7805965E7|             Bradesco|       celular|1.1944547225E10|2021-06-22 05:39:00|\n",
            "+---+--------+--------------------+--------------------+--------------------+--------------------+---------------------+---------------------+--------------+---------------+-------------------+\n",
            "only showing top 20 rows\n",
            "\n"
          ]
        }
      ]
    },
    {
      "cell_type": "code",
      "source": [
        "df_cast.select(\"id\",\"valor\",\"chave_pix_tipo\").show()"
      ],
      "metadata": {
        "colab": {
          "base_uri": "https://localhost:8080/"
        },
        "id": "l5EnFF_Y7O7O",
        "outputId": "304d6a72-52c6-4e83-8670-6d5d4abda622"
      },
      "execution_count": 251,
      "outputs": [
        {
          "output_type": "stream",
          "name": "stdout",
          "text": [
            "+---+--------+--------------+\n",
            "| id|   valor|chave_pix_tipo|\n",
            "+---+--------+--------------+\n",
            "|  1|    9.93|           cpf|\n",
            "|  2|   15.38|           cpf|\n",
            "|  3|   57.58|           cpf|\n",
            "|  4|53705.13|           cpf|\n",
            "|  5|25299.69|           cpf|\n",
            "|  6| 7165.06|           cpf|\n",
            "|  7|    6.16|           cpf|\n",
            "|  8|  136.36|           cpf|\n",
            "|  9|  574.39|           cpf|\n",
            "| 10|   42.88|           cpf|\n",
            "| 11|33629.97|           cpf|\n",
            "| 12| 4374.56|           cpf|\n",
            "| 13|  507.18|           cpf|\n",
            "| 14|67758.87|           cpf|\n",
            "| 15|  815.53|           cpf|\n",
            "| 16|    2.73|           cpf|\n",
            "| 17|    0.54|           cpf|\n",
            "| 18|49836.72|           cpf|\n",
            "| 19|    9.68|       celular|\n",
            "| 20| 9837.22|       celular|\n",
            "+---+--------+--------------+\n",
            "only showing top 20 rows\n",
            "\n"
          ]
        }
      ]
    },
    {
      "cell_type": "code",
      "source": [
        "df_cast.printSchema()"
      ],
      "metadata": {
        "colab": {
          "base_uri": "https://localhost:8080/"
        },
        "id": "GoCNpcL576FP",
        "outputId": "68ff2257-c03d-4623-fff6-f86014064c61"
      },
      "execution_count": 263,
      "outputs": [
        {
          "output_type": "stream",
          "name": "stdout",
          "text": [
            "root\n",
            " |-- id: integer (nullable = true)\n",
            " |-- valor: double (nullable = true)\n",
            " |-- parte_debitada_nome: string (nullable = true)\n",
            " |-- parte_debitada_conta: string (nullable = true)\n",
            " |-- parte_debitada_banco: double (nullable = true)\n",
            " |-- parte_creditada_nome: string (nullable = true)\n",
            " |-- parte_creditada_conta: string (nullable = true)\n",
            " |-- parte_creditada_banco: string (nullable = true)\n",
            " |-- chave_pix_tipo: string (nullable = true)\n",
            " |-- chave_pix_valor: string (nullable = true)\n",
            " |-- data_transacao: timestamp (nullable = true)\n",
            "\n"
          ]
        }
      ]
    },
    {
      "cell_type": "code",
      "source": [
        "df.groupby(\"chave_pix_tipo\").count().show()"
      ],
      "metadata": {
        "colab": {
          "base_uri": "https://localhost:8080/"
        },
        "id": "hOt6szCh7IXm",
        "outputId": "ca66d3e0-4c5f-4a50-b4a3-fff363edfd68"
      },
      "execution_count": 264,
      "outputs": [
        {
          "output_type": "stream",
          "name": "stdout",
          "text": [
            "+--------------+-----+\n",
            "|chave_pix_tipo|count|\n",
            "+--------------+-----+\n",
            "|       celular|   22|\n",
            "|         email|   29|\n",
            "|           cpf|   49|\n",
            "+--------------+-----+\n",
            "\n"
          ]
        }
      ]
    },
    {
      "cell_type": "code",
      "source": [
        "df.groupby(\"chave_pix_tipo\").sum(\"valor\").show()"
      ],
      "metadata": {
        "colab": {
          "base_uri": "https://localhost:8080/"
        },
        "id": "iiBqhC-F-ECO",
        "outputId": "ebc877b7-16dd-4651-d395-2da192821901"
      },
      "execution_count": 266,
      "outputs": [
        {
          "output_type": "stream",
          "name": "stdout",
          "text": [
            "+--------------+------------------+\n",
            "|chave_pix_tipo|        sum(valor)|\n",
            "+--------------+------------------+\n",
            "|       celular|         207778.46|\n",
            "|         email|499009.38000000006|\n",
            "|           cpf| 659513.3499999997|\n",
            "+--------------+------------------+\n",
            "\n"
          ]
        }
      ]
    },
    {
      "cell_type": "code",
      "source": [
        "df.groupby(\"chave_pix_tipo\").avg(\"valor\").withColumnRenamed(\"avg(valor)\", \"Media\").show()"
      ],
      "metadata": {
        "colab": {
          "base_uri": "https://localhost:8080/"
        },
        "id": "Z3ebeRxk-lRP",
        "outputId": "0b7bd0ed-fd16-42e1-c626-44d99e864ffe"
      },
      "execution_count": 270,
      "outputs": [
        {
          "output_type": "stream",
          "name": "stdout",
          "text": [
            "+--------------+------------------+\n",
            "|chave_pix_tipo|             Media|\n",
            "+--------------+------------------+\n",
            "|       celular| 9444.475454545454|\n",
            "|         email|          17207.22|\n",
            "|           cpf|13459.456122448973|\n",
            "+--------------+------------------+\n",
            "\n"
          ]
        }
      ]
    },
    {
      "cell_type": "code",
      "source": [
        "from pyspark.sql.functions import year"
      ],
      "metadata": {
        "id": "yiDNdOgoEtpg"
      },
      "execution_count": 282,
      "outputs": []
    },
    {
      "cell_type": "code",
      "source": [
        "df_feito= df_cast.filter(year(col(\"data_transacao\")) == 2022)"
      ],
      "metadata": {
        "id": "NrczBwJhENCA"
      },
      "execution_count": 298,
      "outputs": []
    },
    {
      "cell_type": "code",
      "source": [
        "df_feito.write.csv('Resultados/movimentações_2022.csv')"
      ],
      "metadata": {
        "id": "a4jZwhxfGLCv"
      },
      "execution_count": 299,
      "outputs": []
    },
    {
      "cell_type": "code",
      "source": [
        "df_feito.write.parquet(\"Resultados/movimentações_2022.parquet\")"
      ],
      "metadata": {
        "id": "cL6b-AXQHyV5"
      },
      "execution_count": 301,
      "outputs": []
    },
    {
      "cell_type": "code",
      "source": [
        "df_feito.rdd.getNumPartitions()"
      ],
      "metadata": {
        "colab": {
          "base_uri": "https://localhost:8080/"
        },
        "id": "EMzhctypLYnY",
        "outputId": "1c567126-19fd-44d2-f475-33a6c83181d3"
      },
      "execution_count": 302,
      "outputs": [
        {
          "output_type": "execute_result",
          "data": {
            "text/plain": [
              "1"
            ]
          },
          "metadata": {},
          "execution_count": 302
        }
      ]
    },
    {
      "cell_type": "code",
      "source": [
        "!lscpu"
      ],
      "metadata": {
        "colab": {
          "base_uri": "https://localhost:8080/"
        },
        "id": "eGQYEIO6LxKo",
        "outputId": "0c336657-b39c-4570-d6d8-92895ec4eca3"
      },
      "execution_count": 303,
      "outputs": [
        {
          "output_type": "stream",
          "name": "stdout",
          "text": [
            "Architecture:             x86_64\n",
            "  CPU op-mode(s):         32-bit, 64-bit\n",
            "  Address sizes:          46 bits physical, 48 bits virtual\n",
            "  Byte Order:             Little Endian\n",
            "CPU(s):                   2\n",
            "  On-line CPU(s) list:    0,1\n",
            "Vendor ID:                GenuineIntel\n",
            "  Model name:             Intel(R) Xeon(R) CPU @ 2.20GHz\n",
            "    CPU family:           6\n",
            "    Model:                79\n",
            "    Thread(s) per core:   2\n",
            "    Core(s) per socket:   1\n",
            "    Socket(s):            1\n",
            "    Stepping:             0\n",
            "    BogoMIPS:             4400.41\n",
            "    Flags:                fpu vme de pse tsc msr pae mce cx8 apic sep mtrr pge mca cmov pat pse36 cl\n",
            "                          flush mmx fxsr sse sse2 ss ht syscall nx pdpe1gb rdtscp lm constant_tsc re\n",
            "                          p_good nopl xtopology nonstop_tsc cpuid tsc_known_freq pni pclmulqdq ssse3\n",
            "                           fma cx16 pcid sse4_1 sse4_2 x2apic movbe popcnt aes xsave avx f16c rdrand\n",
            "                           hypervisor lahf_lm abm 3dnowprefetch invpcid_single ssbd ibrs ibpb stibp \n",
            "                          fsgsbase tsc_adjust bmi1 hle avx2 smep bmi2 erms invpcid rtm rdseed adx sm\n",
            "                          ap xsaveopt arat md_clear arch_capabilities\n",
            "Virtualization features:  \n",
            "  Hypervisor vendor:      KVM\n",
            "  Virtualization type:    full\n",
            "Caches (sum of all):      \n",
            "  L1d:                    32 KiB (1 instance)\n",
            "  L1i:                    32 KiB (1 instance)\n",
            "  L2:                     256 KiB (1 instance)\n",
            "  L3:                     55 MiB (1 instance)\n",
            "NUMA:                     \n",
            "  NUMA node(s):           1\n",
            "  NUMA node0 CPU(s):      0,1\n",
            "Vulnerabilities:          \n",
            "  Gather data sampling:   Not affected\n",
            "  Itlb multihit:          Not affected\n",
            "  L1tf:                   Mitigation; PTE Inversion\n",
            "  Mds:                    Vulnerable; SMT Host state unknown\n",
            "  Meltdown:               Vulnerable\n",
            "  Mmio stale data:        Vulnerable\n",
            "  Reg file data sampling: Not affected\n",
            "  Retbleed:               Vulnerable\n",
            "  Spec rstack overflow:   Not affected\n",
            "  Spec store bypass:      Vulnerable\n",
            "  Spectre v1:             Vulnerable: __user pointer sanitization and usercopy barriers only; no swa\n",
            "                          pgs barriers\n",
            "  Spectre v2:             Vulnerable; IBPB: disabled; STIBP: disabled; PBRSB-eIBRS: Not affected; BH\n",
            "                          I: Vulnerable (Syscall hardening enabled)\n",
            "  Srbds:                  Not affected\n",
            "  Tsx async abort:        Vulnerable\n"
          ]
        }
      ]
    },
    {
      "cell_type": "code",
      "source": [
        "from pyspark.sql.functions import date_format"
      ],
      "metadata": {
        "id": "Svk48XhZOqOJ"
      },
      "execution_count": 304,
      "outputs": []
    },
    {
      "cell_type": "code",
      "source": [
        "final = df_cast.withColumn(\"Dia_Mes_Ano\", date_format(col(\"data_transacao\"), \"dd/mm/yyyy\"))"
      ],
      "metadata": {
        "id": "popeWufdOTow"
      },
      "execution_count": 317,
      "outputs": []
    },
    {
      "cell_type": "code",
      "source": [
        "final.show()"
      ],
      "metadata": {
        "colab": {
          "base_uri": "https://localhost:8080/"
        },
        "id": "ithwDmYXPcga",
        "outputId": "3973e3e9-60b8-4182-db25-eb430aab312b"
      },
      "execution_count": 318,
      "outputs": [
        {
          "output_type": "stream",
          "name": "stdout",
          "text": [
            "+---+--------+--------------------+--------------------+--------------------+--------------------+---------------------+---------------------+--------------+---------------+-------------------+-----------+\n",
            "| id|   valor| parte_debitada_nome|parte_debitada_conta|parte_debitada_banco|parte_creditada_nome|parte_creditada_conta|parte_creditada_banco|chave_pix_tipo|chave_pix_valor|     data_transacao|Dia_Mes_Ano|\n",
            "+---+--------+--------------------+--------------------+--------------------+--------------------+---------------------+---------------------+--------------+---------------+-------------------+-----------+\n",
            "|  1|    9.93|Dra. Ana Carolina...|            79470453|              Nubank|       Maysa da Cruz|             67162333|                 Itau|           cpf|     8439752610|2022-02-18 13:28:00| 18/28/2022|\n",
            "|  2|   15.38|        Ana Caldeira|            19689668|                Itau|        Evelyn Sales|             60005091|             Bradesco|           cpf|    27145380617|2022-04-08 01:47:00| 08/47/2022|\n",
            "|  3|   57.58|    Arthur Goncalves|            18856899|            Bradesco|          Maria Melo|             13496303|                  BTG|           cpf|    16452937006|2022-07-14 03:18:00| 14/18/2022|\n",
            "|  4|53705.13|  Ana Julia Caldeira|            22834741|                Itau|   Ana Livia Almeida|             44695116|               Nubank|           cpf|    26590384142|2022-01-15 18:06:00| 15/06/2022|\n",
            "|  5|25299.69|  Srta. Nicole Pinto|             3715882|              Nubank|Srta. Ana Laura d...|             21409465|               Nubank|           cpf|    73486105280|2022-05-13 11:04:00| 13/04/2022|\n",
            "|  6| 7165.06|   Gabriela Ferreira|             2243037|              Nubank|       Larissa Souza|             10689552|                 Itau|           cpf|    96845371237|2022-09-11 13:38:00| 11/38/2022|\n",
            "|  7|    6.16|    Heloisa da Rocha|            59778949|                 BTG|Dra. Vitoria Silv...|             56583792|               Nubank|           cpf|    89064175357|2021-12-10 12:37:00| 10/37/2021|\n",
            "|  8|  136.36|Srta. Isadora Cor...|            77102442|              Nubank|  Francisco da Costa|             96088386|               Nubank|           cpf|    85907632429|2021-12-30 23:18:00| 30/18/2021|\n",
            "|  9|  574.39|   Dr. Lucas da Cruz|            38501170|                 BTG|       Calebe da Luz|             19365554|             Bradesco|           cpf|    64720189520|2021-06-21 07:20:00| 21/20/2021|\n",
            "| 10|   42.88|     Mirella Martins|            29535709|            Bradesco|        Danilo Lopes|             60064650|                 Itau|           cpf|    87014935232|2022-09-21 17:19:00| 21/19/2022|\n",
            "| 11|33629.97|Sr. Vitor Gabriel...|            67010663|                 BTG|Sra. Lavinia Cald...|             48145941|               Nubank|           cpf|    63542098124|2022-09-12 00:29:00| 12/29/2022|\n",
            "| 12| 4374.56|      Nathan Peixoto|            22975623|              Nubank|        Diogo da Luz|             30302218|             Bradesco|           cpf|    72908154323|2022-08-07 17:01:00| 07/01/2022|\n",
            "| 13|  507.18|       Miguel Araujo|            75113657|              Nubank|Marcos Vinicius G...|             67418115|                 Itau|           cpf|    84763129031|2021-03-07 12:34:00| 07/34/2021|\n",
            "| 14|67758.87|     Juliana Correia|             4495167|                Itau|    Davi Lucas Porto|             94395923|                  BTG|           cpf|    97804215649|2021-03-24 22:58:00| 24/58/2021|\n",
            "| 15|  815.53|     Ana Laura Souza|            79650252|                Itau|        Isabel Costa|             28762988|                  BTG|           cpf|    51824039689|2022-02-21 11:25:00| 21/25/2022|\n",
            "| 16|    2.73|           Levi Lima|            73815441|                 BTG|Dra. Maria Luiza ...|             96594203|             Bradesco|           cpf|    94516738066|2021-07-20 09:17:00| 20/17/2021|\n",
            "| 17|    0.54|        Otavio Cunha|            85583961|            Bradesco|       Elisa Moreira|             97003354|             Bradesco|           cpf|    15248769094|2022-02-16 10:16:00| 16/16/2022|\n",
            "| 18|49836.72|Ana Carolina Oliv...|            80200942|                Itau|    Stella Fernandes|             31579145|                  BTG|           cpf|    47609381250|2022-07-18 22:46:00| 18/46/2022|\n",
            "| 19|    9.68|        Levi Martins|            12349481|                Itau|Joao Guilherme Me...|             31102492|                  BTG|       celular|    11916824404|2022-02-26 15:05:00| 26/05/2022|\n",
            "| 20| 9837.22|          Noah Cunha|            84622162|            Bradesco|         Juan Mendes|             97805965|             Bradesco|       celular|    11944547225|2021-06-22 05:39:00| 22/39/2021|\n",
            "+---+--------+--------------------+--------------------+--------------------+--------------------+---------------------+---------------------+--------------+---------------+-------------------+-----------+\n",
            "only showing top 20 rows\n",
            "\n"
          ]
        }
      ]
    },
    {
      "cell_type": "code",
      "source": [
        "final.write.partitionBy('Dia_Mes_Ano').parquet('partições/data')"
      ],
      "metadata": {
        "id": "uO2PJH-CPknS"
      },
      "execution_count": 319,
      "outputs": []
    },
    {
      "cell_type": "code",
      "source": [
        "from google.colab import drive\n",
        "drive.mount('/content/drive')"
      ],
      "metadata": {
        "id": "GADwo6IzTqm1"
      },
      "execution_count": null,
      "outputs": []
    },
    {
      "cell_type": "code",
      "source": [],
      "metadata": {
        "id": "esLfhkMwPirZ"
      },
      "execution_count": null,
      "outputs": []
    }
  ]
}