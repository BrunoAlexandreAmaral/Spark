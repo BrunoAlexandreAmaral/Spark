{
  "nbformat": 4,
  "nbformat_minor": 0,
  "metadata": {
    "colab": {
      "provenance": [],
      "authorship_tag": "ABX9TyOIeYUoBDFtkdvmpBCa5Ngt",
      "include_colab_link": true
    },
    "kernelspec": {
      "name": "python3",
      "display_name": "Python 3"
    },
    "language_info": {
      "name": "python"
    }
  },
  "cells": [
    {
      "cell_type": "markdown",
      "metadata": {
        "id": "view-in-github",
        "colab_type": "text"
      },
      "source": [
        "<a href=\"https://colab.research.google.com/github/BrunoAlexandreAmaral/Spark/blob/main/INSTALANDO_SPARKUI_E_SPARKSQL.ipynb\" target=\"_parent\"><img src=\"https://colab.research.google.com/assets/colab-badge.svg\" alt=\"Open In Colab\"/></a>"
      ]
    },
    {
      "cell_type": "code",
      "execution_count": 2,
      "metadata": {
        "id": "mdvlOIm7kwdn",
        "colab": {
          "base_uri": "https://localhost:8080/"
        },
        "outputId": "3221818d-c547-4477-daae-810d46a3f55f"
      },
      "outputs": [
        {
          "output_type": "stream",
          "name": "stdout",
          "text": [
            "Requirement already satisfied: pyspark in /usr/local/lib/python3.11/dist-packages (3.5.5)\n",
            "Requirement already satisfied: py4j==0.10.9.7 in /usr/local/lib/python3.11/dist-packages (from pyspark) (0.10.9.7)\n"
          ]
        }
      ],
      "source": [
        "!pip install pyspark"
      ]
    },
    {
      "cell_type": "code",
      "source": [
        "!pip install pyngrok"
      ],
      "metadata": {
        "colab": {
          "base_uri": "https://localhost:8080/"
        },
        "id": "dIXrlbjGxoLg",
        "outputId": "f87063d0-29eb-45ad-e2ba-2fe0ce412af6"
      },
      "execution_count": 45,
      "outputs": [
        {
          "output_type": "stream",
          "name": "stdout",
          "text": [
            "Collecting pyngrok\n",
            "  Downloading pyngrok-7.2.3-py3-none-any.whl.metadata (8.7 kB)\n",
            "Requirement already satisfied: PyYAML>=5.1 in /usr/local/lib/python3.11/dist-packages (from pyngrok) (6.0.2)\n",
            "Downloading pyngrok-7.2.3-py3-none-any.whl (23 kB)\n",
            "Installing collected packages: pyngrok\n",
            "Successfully installed pyngrok-7.2.3\n"
          ]
        }
      ]
    },
    {
      "cell_type": "code",
      "source": [
        "import pandas as pq\n",
        "import numpy as np\n",
        "from google.colab import files\n",
        "uploaded = files.upload()"
      ],
      "metadata": {
        "colab": {
          "base_uri": "https://localhost:8080/",
          "height": 38
        },
        "id": "MVA9tAXnqjnK",
        "outputId": "4e726237-3375-4982-cf51-a24d7982390d"
      },
      "execution_count": 27,
      "outputs": [
        {
          "output_type": "display_data",
          "data": {
            "text/plain": [
              "<IPython.core.display.HTML object>"
            ],
            "text/html": [
              "\n",
              "     <input type=\"file\" id=\"files-9fd0acde-0dad-44bb-9ddd-355d745d1a1a\" name=\"files[]\" multiple disabled\n",
              "        style=\"border:none\" />\n",
              "     <output id=\"result-9fd0acde-0dad-44bb-9ddd-355d745d1a1a\">\n",
              "      Upload widget is only available when the cell has been executed in the\n",
              "      current browser session. Please rerun this cell to enable.\n",
              "      </output>\n",
              "      <script>// Copyright 2017 Google LLC\n",
              "//\n",
              "// Licensed under the Apache License, Version 2.0 (the \"License\");\n",
              "// you may not use this file except in compliance with the License.\n",
              "// You may obtain a copy of the License at\n",
              "//\n",
              "//      http://www.apache.org/licenses/LICENSE-2.0\n",
              "//\n",
              "// Unless required by applicable law or agreed to in writing, software\n",
              "// distributed under the License is distributed on an \"AS IS\" BASIS,\n",
              "// WITHOUT WARRANTIES OR CONDITIONS OF ANY KIND, either express or implied.\n",
              "// See the License for the specific language governing permissions and\n",
              "// limitations under the License.\n",
              "\n",
              "/**\n",
              " * @fileoverview Helpers for google.colab Python module.\n",
              " */\n",
              "(function(scope) {\n",
              "function span(text, styleAttributes = {}) {\n",
              "  const element = document.createElement('span');\n",
              "  element.textContent = text;\n",
              "  for (const key of Object.keys(styleAttributes)) {\n",
              "    element.style[key] = styleAttributes[key];\n",
              "  }\n",
              "  return element;\n",
              "}\n",
              "\n",
              "// Max number of bytes which will be uploaded at a time.\n",
              "const MAX_PAYLOAD_SIZE = 100 * 1024;\n",
              "\n",
              "function _uploadFiles(inputId, outputId) {\n",
              "  const steps = uploadFilesStep(inputId, outputId);\n",
              "  const outputElement = document.getElementById(outputId);\n",
              "  // Cache steps on the outputElement to make it available for the next call\n",
              "  // to uploadFilesContinue from Python.\n",
              "  outputElement.steps = steps;\n",
              "\n",
              "  return _uploadFilesContinue(outputId);\n",
              "}\n",
              "\n",
              "// This is roughly an async generator (not supported in the browser yet),\n",
              "// where there are multiple asynchronous steps and the Python side is going\n",
              "// to poll for completion of each step.\n",
              "// This uses a Promise to block the python side on completion of each step,\n",
              "// then passes the result of the previous step as the input to the next step.\n",
              "function _uploadFilesContinue(outputId) {\n",
              "  const outputElement = document.getElementById(outputId);\n",
              "  const steps = outputElement.steps;\n",
              "\n",
              "  const next = steps.next(outputElement.lastPromiseValue);\n",
              "  return Promise.resolve(next.value.promise).then((value) => {\n",
              "    // Cache the last promise value to make it available to the next\n",
              "    // step of the generator.\n",
              "    outputElement.lastPromiseValue = value;\n",
              "    return next.value.response;\n",
              "  });\n",
              "}\n",
              "\n",
              "/**\n",
              " * Generator function which is called between each async step of the upload\n",
              " * process.\n",
              " * @param {string} inputId Element ID of the input file picker element.\n",
              " * @param {string} outputId Element ID of the output display.\n",
              " * @return {!Iterable<!Object>} Iterable of next steps.\n",
              " */\n",
              "function* uploadFilesStep(inputId, outputId) {\n",
              "  const inputElement = document.getElementById(inputId);\n",
              "  inputElement.disabled = false;\n",
              "\n",
              "  const outputElement = document.getElementById(outputId);\n",
              "  outputElement.innerHTML = '';\n",
              "\n",
              "  const pickedPromise = new Promise((resolve) => {\n",
              "    inputElement.addEventListener('change', (e) => {\n",
              "      resolve(e.target.files);\n",
              "    });\n",
              "  });\n",
              "\n",
              "  const cancel = document.createElement('button');\n",
              "  inputElement.parentElement.appendChild(cancel);\n",
              "  cancel.textContent = 'Cancel upload';\n",
              "  const cancelPromise = new Promise((resolve) => {\n",
              "    cancel.onclick = () => {\n",
              "      resolve(null);\n",
              "    };\n",
              "  });\n",
              "\n",
              "  // Wait for the user to pick the files.\n",
              "  const files = yield {\n",
              "    promise: Promise.race([pickedPromise, cancelPromise]),\n",
              "    response: {\n",
              "      action: 'starting',\n",
              "    }\n",
              "  };\n",
              "\n",
              "  cancel.remove();\n",
              "\n",
              "  // Disable the input element since further picks are not allowed.\n",
              "  inputElement.disabled = true;\n",
              "\n",
              "  if (!files) {\n",
              "    return {\n",
              "      response: {\n",
              "        action: 'complete',\n",
              "      }\n",
              "    };\n",
              "  }\n",
              "\n",
              "  for (const file of files) {\n",
              "    const li = document.createElement('li');\n",
              "    li.append(span(file.name, {fontWeight: 'bold'}));\n",
              "    li.append(span(\n",
              "        `(${file.type || 'n/a'}) - ${file.size} bytes, ` +\n",
              "        `last modified: ${\n",
              "            file.lastModifiedDate ? file.lastModifiedDate.toLocaleDateString() :\n",
              "                                    'n/a'} - `));\n",
              "    const percent = span('0% done');\n",
              "    li.appendChild(percent);\n",
              "\n",
              "    outputElement.appendChild(li);\n",
              "\n",
              "    const fileDataPromise = new Promise((resolve) => {\n",
              "      const reader = new FileReader();\n",
              "      reader.onload = (e) => {\n",
              "        resolve(e.target.result);\n",
              "      };\n",
              "      reader.readAsArrayBuffer(file);\n",
              "    });\n",
              "    // Wait for the data to be ready.\n",
              "    let fileData = yield {\n",
              "      promise: fileDataPromise,\n",
              "      response: {\n",
              "        action: 'continue',\n",
              "      }\n",
              "    };\n",
              "\n",
              "    // Use a chunked sending to avoid message size limits. See b/62115660.\n",
              "    let position = 0;\n",
              "    do {\n",
              "      const length = Math.min(fileData.byteLength - position, MAX_PAYLOAD_SIZE);\n",
              "      const chunk = new Uint8Array(fileData, position, length);\n",
              "      position += length;\n",
              "\n",
              "      const base64 = btoa(String.fromCharCode.apply(null, chunk));\n",
              "      yield {\n",
              "        response: {\n",
              "          action: 'append',\n",
              "          file: file.name,\n",
              "          data: base64,\n",
              "        },\n",
              "      };\n",
              "\n",
              "      let percentDone = fileData.byteLength === 0 ?\n",
              "          100 :\n",
              "          Math.round((position / fileData.byteLength) * 100);\n",
              "      percent.textContent = `${percentDone}% done`;\n",
              "\n",
              "    } while (position < fileData.byteLength);\n",
              "  }\n",
              "\n",
              "  // All done.\n",
              "  yield {\n",
              "    response: {\n",
              "      action: 'complete',\n",
              "    }\n",
              "  };\n",
              "}\n",
              "\n",
              "scope.google = scope.google || {};\n",
              "scope.google.colab = scope.google.colab || {};\n",
              "scope.google.colab._files = {\n",
              "  _uploadFiles,\n",
              "  _uploadFilesContinue,\n",
              "};\n",
              "})(self);\n",
              "</script> "
            ]
          },
          "metadata": {}
        }
      ]
    },
    {
      "cell_type": "code",
      "source": [
        "from pyngrok import ngrok"
      ],
      "metadata": {
        "id": "YuXn_tEKxWYp"
      },
      "execution_count": 48,
      "outputs": []
    },
    {
      "cell_type": "code",
      "source": [
        "!wget https://bin.equinox.io/c/4VmDzA7iaHb/ngrok-stable-linux-amd64.zip\n",
        "!unzip ngrok-stable-linux-amd64.zip yes"
      ],
      "metadata": {
        "colab": {
          "base_uri": "https://localhost:8080/"
        },
        "id": "Oy5dDjpDrRrK",
        "outputId": "bea859df-cfbe-488f-93ce-b39b6562dabd"
      },
      "execution_count": 29,
      "outputs": [
        {
          "output_type": "stream",
          "name": "stdout",
          "text": [
            "--2025-03-04 15:22:21--  https://bin.equinox.io/c/4VmDzA7iaHb/ngrok-stable-linux-amd64.zip\n",
            "Resolving bin.equinox.io (bin.equinox.io)... 75.2.60.68, 35.71.179.82, 13.248.244.96, ...\n",
            "Connecting to bin.equinox.io (bin.equinox.io)|75.2.60.68|:443... connected.\n",
            "HTTP request sent, awaiting response... 200 OK\n",
            "Length: 13921656 (13M) [application/octet-stream]\n",
            "Saving to: ‘ngrok-stable-linux-amd64.zip.2’\n",
            "\n",
            "ngrok-stable-linux- 100%[===================>]  13.28M  16.9MB/s    in 0.8s    \n",
            "\n",
            "2025-03-04 15:22:22 (16.9 MB/s) - ‘ngrok-stable-linux-amd64.zip.2’ saved [13921656/13921656]\n",
            "\n",
            "Archive:  ngrok-stable-linux-amd64.zip\n",
            "caution: filename not matched:  yes\n"
          ]
        }
      ]
    },
    {
      "cell_type": "code",
      "source": [
        "from pyspark.sql import SparkSession"
      ],
      "metadata": {
        "id": "emz5NdMnrfQZ"
      },
      "execution_count": 30,
      "outputs": []
    },
    {
      "cell_type": "code",
      "source": [
        "spark = SparkSession.builder.config(\"spark.ui.port\",\"4050\").appName(\"programa\").getOrCreate()"
      ],
      "metadata": {
        "id": "Dg57Hdrjrq4a"
      },
      "execution_count": 31,
      "outputs": []
    },
    {
      "cell_type": "code",
      "source": [
        "!./ngrok config add-authtoken \"SEU AUTTOKEN DO ngrok\""
      ],
      "metadata": {
        "colab": {
          "base_uri": "https://localhost:8080/"
        },
        "id": "11PNWlJGvWbR",
        "outputId": "01a0678e-35dc-467d-cb50-33a1d3efca2b"
      },
      "execution_count": 34,
      "outputs": [
        {
          "output_type": "stream",
          "name": "stdout",
          "text": [
            "NAME:\n",
            "   ngrok - tunnel local ports to public URLs and inspect traffic\n",
            "\n",
            "DESCRIPTION:\n",
            "    ngrok exposes local networked services behinds NATs and firewalls to the\n",
            "    public internet over a secure tunnel. Share local websites, build/test\n",
            "    webhook consumers and self-host personal services.\n",
            "    Detailed help for each command is available with 'ngrok help <command>'.\n",
            "    Open http://localhost:4040 for ngrok's web interface to inspect traffic.\n",
            "\n",
            "EXAMPLES:\n",
            "    ngrok http 80                    # secure public URL for port 80 web server\n",
            "    ngrok http -subdomain=baz 8080   # port 8080 available at baz.ngrok.io\n",
            "    ngrok http foo.dev:80            # tunnel to host:port instead of localhost\n",
            "    ngrok http https://localhost     # expose a local https server\n",
            "    ngrok tcp 22                     # tunnel arbitrary TCP traffic to port 22\n",
            "    ngrok tls -hostname=foo.com 443  # TLS traffic for foo.com to port 443\n",
            "    ngrok start foo bar baz          # start tunnels from the configuration file\n",
            "\n",
            "VERSION:\n",
            "   2.3.41\n",
            "\n",
            "AUTHOR:\n",
            "  inconshreveable - <alan@ngrok.com>\n",
            "\n",
            "COMMANDS:\n",
            "   authtoken\tsave authtoken to configuration file\n",
            "   credits\tprints author and licensing information\n",
            "   http\t\tstart an HTTP tunnel\n",
            "   start\tstart tunnels by name from the configuration file\n",
            "   tcp\t\tstart a TCP tunnel\n",
            "   tls\t\tstart a TLS tunnel\n",
            "   update\tupdate ngrok to the latest version\n",
            "   version\tprint the version string\n",
            "   help\t\tShows a list of commands or help for one command\n",
            "\n",
            "ERROR:  Unrecognized command: config\n"
          ]
        }
      ]
    },
    {
      "cell_type": "code",
      "source": [
        "!./ngrok authtoken \"SEU AUTTOKEN DO ngrok\"\n",
        "get_ipython().system_raw('./ngrok http 4050 &')\n",
        "!sleep 10s\n",
        "!curl -s http://localhost:4050/api/tunnels | grep -Po  'public_url\":\"(?=https)\\K[^\"]\"'"
      ],
      "metadata": {
        "colab": {
          "base_uri": "https://localhost:8080/"
        },
        "id": "0DaM9lkXs2pb",
        "outputId": "6690760f-be67-496e-8e60-f92e350c3c7e"
      },
      "execution_count": 50,
      "outputs": [
        {
          "output_type": "stream",
          "name": "stdout",
          "text": [
            "Authtoken saved to configuration file: /root/.ngrok2/ngrok.yml\n"
          ]
        }
      ]
    },
    {
      "cell_type": "code",
      "source": [
        "ngrok_auth_token = \"SEU AUTTOKEN DO ngrok\"\n",
        "get_ipython().system_raw('./ngrok authtoken $ngrok_auth_token && ./ngrok tcp 4050 &')\n",
        "!sleep 10\n",
        "print(ngrok.connect(4050))"
      ],
      "metadata": {
        "colab": {
          "base_uri": "https://localhost:8080/"
        },
        "id": "h6P7eB23xJ7n",
        "outputId": "99db309c-9918-4fb6-e22d-1f57596b9167"
      },
      "execution_count": 53,
      "outputs": [
        {
          "output_type": "stream",
          "name": "stderr",
          "text": [
            "WARNING:pyngrok.process.ngrok:t=2025-03-04T15:34:02+0000 lvl=warn msg=\"ngrok config file found at both XDG and legacy locations, using XDG location\" xdg_path=/root/.config/ngrok/ngrok.yml legacy_path=/root/.ngrok2/ngrok.yml\n"
          ]
        },
        {
          "output_type": "stream",
          "name": "stdout",
          "text": [
            "NgrokTunnel: \"https://6c86-34-125-56-157.ngrok-free.app\" -> \"http://localhost:4050\"\n"
          ]
        }
      ]
    },
    {
      "cell_type": "code",
      "source": [
        "ngrok.set_auth_token(\"SEU AUTTOKEN DO ngrok\")"
      ],
      "metadata": {
        "id": "eSGle6ywyoxQ"
      },
      "execution_count": 52,
      "outputs": []
    },
    {
      "cell_type": "code",
      "source": [
        "caminho = \"/content/pix_transactions.json\""
      ],
      "metadata": {
        "id": "yyrXqCYN10r6"
      },
      "execution_count": 54,
      "outputs": []
    },
    {
      "cell_type": "code",
      "source": [
        "df = spark.read.json(caminho, schema=tipos, timestampFormat=\"yyyy-MM-dd\")"
      ],
      "metadata": {
        "id": "xilGxmn215Su"
      },
      "execution_count": 93,
      "outputs": []
    },
    {
      "cell_type": "code",
      "source": [
        "df.printSchema()"
      ],
      "metadata": {
        "colab": {
          "base_uri": "https://localhost:8080/"
        },
        "id": "3FYHhNiw2GF3",
        "outputId": "e9e4f2dd-39dd-4c45-9064-b92e6dee5deb"
      },
      "execution_count": 94,
      "outputs": [
        {
          "output_type": "stream",
          "name": "stdout",
          "text": [
            "root\n",
            " |-- transaction_date: timestamp (nullable = true)\n",
            " |-- chave_pix: string (nullable = true)\n",
            " |-- destinatario: struct (nullable = true)\n",
            " |    |-- banco: string (nullable = true)\n",
            " |    |-- nome: string (nullable = true)\n",
            " |    |-- tipo: string (nullable = true)\n",
            " |-- fraude: string (nullable = true)\n",
            " |-- id_transacao: string (nullable = true)\n",
            " |-- remetente: struct (nullable = true)\n",
            " |    |-- banco: string (nullable = true)\n",
            " |    |-- nome: string (nullable = true)\n",
            " |    |-- tipo: string (nullable = true)\n",
            " |-- valor: double (nullable = true)\n",
            "\n"
          ]
        }
      ]
    },
    {
      "cell_type": "code",
      "source": [
        "from pyspark.sql.types import StructType,StructField,StringType, DoubleType, IntegerType, TimestampType"
      ],
      "metadata": {
        "id": "2qcX7yWA2si_"
      },
      "execution_count": 61,
      "outputs": []
    },
    {
      "cell_type": "code",
      "source": [
        "from pyspark.sql.functions import to_timestamp"
      ],
      "metadata": {
        "id": "mxBbcKti4OcI"
      },
      "execution_count": 70,
      "outputs": []
    },
    {
      "cell_type": "code",
      "source": [
        "df.show()"
      ],
      "metadata": {
        "colab": {
          "base_uri": "https://localhost:8080/"
        },
        "id": "rHn08IKp3SAn",
        "outputId": "5b63bd5f-41d6-4f3b-adaa-560fcac4f5da"
      },
      "execution_count": 95,
      "outputs": [
        {
          "output_type": "stream",
          "name": "stdout",
          "text": [
            "+-------------------+---------+--------------------+------+------------+--------------------+--------+\n",
            "|   transaction_date|chave_pix|        destinatario|fraude|id_transacao|           remetente|   valor|\n",
            "+-------------------+---------+--------------------+------+------------+--------------------+--------+\n",
            "|2022-03-19 00:00:00|      cpf|{Itau, Gabriel Cu...|     0|        1000|{BTG, Jonathan Go...|    7.05|\n",
            "|2021-01-26 00:00:00|aleatoria|{XP, Diego Souza,...|     0|        1001|{BTG, Jonathan Go...|   37.28|\n",
            "|2022-05-31 00:00:00|aleatoria|{BTG, Nicole Nune...|     0|        1002|{BTG, Jonathan Go...|  282.73|\n",
            "|2022-07-04 00:00:00|aleatoria|{Nubank, Maria Fe...|     0|        1003|{BTG, Jonathan Go...| 8447.92|\n",
            "|2021-09-11 00:00:00|aleatoria|{C6, Isabel Silva...|     0|        1004|{BTG, Jonathan Go...|   58.51|\n",
            "|2022-02-11 00:00:00|  celular|{Caixa, Anthony C...|     0|        1005|{BTG, Jonathan Go...| 6655.12|\n",
            "|2022-05-10 00:00:00|      cpf|{Itau, Eloah Mont...|     0|        1006|{BTG, Jonathan Go...| 9912.25|\n",
            "|2022-08-28 00:00:00|aleatoria|{BTG, Sophie Roch...|     0|        1007|{BTG, Jonathan Go...| 8212.91|\n",
            "|2022-03-23 00:00:00|      cpf|{Itau, Pietro Rib...|     0|        1008|{BTG, Jonathan Go...|   91.71|\n",
            "|2021-09-18 00:00:00|      cpf|{Nubank, Eloah Te...|     0|        1009|{BTG, Jonathan Go...|   44.29|\n",
            "|2022-11-10 00:00:00|    email|{XP, Emanuella Sa...|     0|        1010|{BTG, Jonathan Go...|     8.2|\n",
            "|2021-07-15 00:00:00|    email|{BTG, Valentina C...|     0|        1011|{BTG, Jonathan Go...|    1.69|\n",
            "|2021-11-14 00:00:00|    email|{XP, Stella Arauj...|     0|        1012|{BTG, Jonathan Go...|  442.76|\n",
            "|2022-11-15 00:00:00|aleatoria|{Itau, Benicio Co...|     0|        1013|{BTG, Jonathan Go...|    5.02|\n",
            "|2021-03-13 00:00:00|      cpf|{Itau, Joao Ferna...|     1|        1014|{BTG, Jonathan Go...|79576.33|\n",
            "|2022-08-05 00:00:00|    email|{Caixa, Gabriela ...|     0|        1015|{BTG, Jonathan Go...|   96.61|\n",
            "|2022-09-01 00:00:00|  celular|{Itau, Larissa Ar...|     0|        1016|{BTG, Jonathan Go...|   16.92|\n",
            "|2022-02-02 00:00:00|  celular|{BTG, Theo Dias, PJ}|     0|        1017|{BTG, Jonathan Go...| 7128.87|\n",
            "|2021-08-11 00:00:00|aleatoria|{XP, Danilo Jesus...|     0|        1018|{BTG, Jonathan Go...| 1658.63|\n",
            "|2022-07-14 00:00:00|  celular|{Caixa, Bruno Cor...|     0|        1019|{BTG, Jonathan Go...| 3935.92|\n",
            "+-------------------+---------+--------------------+------+------------+--------------------+--------+\n",
            "only showing top 20 rows\n",
            "\n"
          ]
        }
      ]
    },
    {
      "cell_type": "code",
      "source": [
        "tipos = StructType([\n",
        "    StructField(\"transaction_date\", TimestampType()),\n",
        "    StructField(\"chave_pix\", StringType()),\n",
        "    StructField(\"destinatario\", tipo_dois),\n",
        "    StructField(\"fraude\", StringType()),\n",
        "    StructField(\"id_transacao\", StringType()),\n",
        "    StructField(\"remetente\", tipo_dois),\n",
        "    StructField(\"valor\", DoubleType()),\n",
        "])"
      ],
      "metadata": {
        "id": "V1AYILbg3J6f"
      },
      "execution_count": 92,
      "outputs": []
    },
    {
      "cell_type": "code",
      "source": [
        "tipo_dois = StructType([StructField(\"banco\", StringType()),\n",
        "                        StructField(\"nome\", StringType()),\n",
        "                        StructField(\"tipo\", StringType())])"
      ],
      "metadata": {
        "id": "u9665AkU-gPm"
      },
      "execution_count": 91,
      "outputs": []
    },
    {
      "cell_type": "code",
      "source": [
        "spark.read.json(caminho, schema=tipos, timestampFormat=\"yyyy-MM-dd\").createOrReplaceTempView(\"transacoes\")"
      ],
      "metadata": {
        "id": "MRBx-K0HFAvc"
      },
      "execution_count": 98,
      "outputs": []
    },
    {
      "cell_type": "code",
      "source": [
        "spark.sql(\"select * from transacoes limit 10\").show()"
      ],
      "metadata": {
        "colab": {
          "base_uri": "https://localhost:8080/"
        },
        "id": "GtAW1a9aFYvz",
        "outputId": "35f94afe-3c14-44eb-bbf8-0fbf76c767b8"
      },
      "execution_count": 100,
      "outputs": [
        {
          "output_type": "stream",
          "name": "stdout",
          "text": [
            "+-------------------+---------+--------------------+------+------------+--------------------+-------+\n",
            "|   transaction_date|chave_pix|        destinatario|fraude|id_transacao|           remetente|  valor|\n",
            "+-------------------+---------+--------------------+------+------------+--------------------+-------+\n",
            "|2022-03-19 00:00:00|      cpf|{Itau, Gabriel Cu...|     0|        1000|{BTG, Jonathan Go...|   7.05|\n",
            "|2021-01-26 00:00:00|aleatoria|{XP, Diego Souza,...|     0|        1001|{BTG, Jonathan Go...|  37.28|\n",
            "|2022-05-31 00:00:00|aleatoria|{BTG, Nicole Nune...|     0|        1002|{BTG, Jonathan Go...| 282.73|\n",
            "|2022-07-04 00:00:00|aleatoria|{Nubank, Maria Fe...|     0|        1003|{BTG, Jonathan Go...|8447.92|\n",
            "|2021-09-11 00:00:00|aleatoria|{C6, Isabel Silva...|     0|        1004|{BTG, Jonathan Go...|  58.51|\n",
            "|2022-02-11 00:00:00|  celular|{Caixa, Anthony C...|     0|        1005|{BTG, Jonathan Go...|6655.12|\n",
            "|2022-05-10 00:00:00|      cpf|{Itau, Eloah Mont...|     0|        1006|{BTG, Jonathan Go...|9912.25|\n",
            "|2022-08-28 00:00:00|aleatoria|{BTG, Sophie Roch...|     0|        1007|{BTG, Jonathan Go...|8212.91|\n",
            "|2022-03-23 00:00:00|      cpf|{Itau, Pietro Rib...|     0|        1008|{BTG, Jonathan Go...|  91.71|\n",
            "|2021-09-18 00:00:00|      cpf|{Nubank, Eloah Te...|     0|        1009|{BTG, Jonathan Go...|  44.29|\n",
            "+-------------------+---------+--------------------+------+------------+--------------------+-------+\n",
            "\n"
          ]
        }
      ]
    }
  ]
}